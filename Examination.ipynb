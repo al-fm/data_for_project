{
  "nbformat": 4,
  "nbformat_minor": 0,
  "metadata": {
    "colab": {
      "name": "Examination.ipynb",
      "provenance": [],
      "collapsed_sections": []
    },
    "kernelspec": {
      "name": "python3",
      "display_name": "Python 3"
    }
  },
  "cells": [
    {
      "cell_type": "markdown",
      "metadata": {
        "id": "w3IMOi-hL_Hf",
        "colab_type": "text"
      },
      "source": [
        "# ***Examination***"
      ]
    },
    {
      "cell_type": "markdown",
      "metadata": {
        "id": "LUhg0WxmXnz8",
        "colab_type": "text"
      },
      "source": [
        "# **warm-up**"
      ]
    },
    {
      "cell_type": "code",
      "metadata": {
        "id": "IqdO-mO6L_Pl",
        "colab_type": "code",
        "outputId": "c38673d5-6890-4d52-d31f-0960ff5b2d4e",
        "colab": {
          "base_uri": "https://localhost:8080/",
          "height": 53
        }
      },
      "source": [
        "a = 10\n",
        "b = 20\n",
        "print('Old: a =',a,'b =',b)\n",
        "\n",
        "a = a+b\n",
        "b = a-b\n",
        "a = a-b\n",
        "\n",
        "print('New: a =',a,'b =',b)"
      ],
      "execution_count": 0,
      "outputs": [
        {
          "output_type": "stream",
          "text": [
            "Old: a = 10 b = 20\n",
            "New: a = 20 b = 10\n"
          ],
          "name": "stdout"
        }
      ]
    },
    {
      "cell_type": "markdown",
      "metadata": {
        "id": "9K4LyhUvYOpz",
        "colab_type": "text"
      },
      "source": [
        "# **Classes**"
      ]
    },
    {
      "cell_type": "markdown",
      "metadata": {
        "id": "1HyF4amrYTDN",
        "colab_type": "text"
      },
      "source": [
        "Write a Python class to get all possible unique subsets from a set of distinct integers\n"
      ]
    },
    {
      "cell_type": "code",
      "metadata": {
        "id": "cE2zBmwGYbwd",
        "colab_type": "code",
        "colab": {}
      },
      "source": [
        "import itertools # для всевозможных комбинаций \n",
        "\n",
        "class subsets(list):\n",
        "  def __init__(self, nums):    \n",
        "    for k in range(0, len(nums)+1): # k - число элементов в подмножестве\n",
        "        for subset in itertools.combinations(nums, k): # возвращает tuple\n",
        "            self.append(list(subset))\n"
      ],
      "execution_count": 0,
      "outputs": []
    },
    {
      "cell_type": "code",
      "metadata": {
        "id": "RwB84Hfe8hA_",
        "colab_type": "code",
        "outputId": "5df7804e-98a2-4605-a180-2777839b323c",
        "colab": {
          "base_uri": "https://localhost:8080/",
          "height": 305
        }
      },
      "source": [
        "integers = [1,2,3,4] # данное множество раличных чисел\n",
        "A = subsets(integers)\n",
        "A"
      ],
      "execution_count": 0,
      "outputs": [
        {
          "output_type": "execute_result",
          "data": {
            "text/plain": [
              "[[],\n",
              " [1],\n",
              " [2],\n",
              " [3],\n",
              " [4],\n",
              " [1, 2],\n",
              " [1, 3],\n",
              " [1, 4],\n",
              " [2, 3],\n",
              " [2, 4],\n",
              " [3, 4],\n",
              " [1, 2, 3],\n",
              " [1, 2, 4],\n",
              " [1, 3, 4],\n",
              " [2, 3, 4],\n",
              " [1, 2, 3, 4]]"
            ]
          },
          "metadata": {
            "tags": []
          },
          "execution_count": 21
        }
      ]
    },
    {
      "cell_type": "markdown",
      "metadata": {
        "id": "8ft5fHvxYWKd",
        "colab_type": "text"
      },
      "source": [
        "Write a Python class to find a pair of elements (indices of the two numbers) from a given array whose sum equals a specific target number. (inherit it from previous)\n"
      ]
    },
    {
      "cell_type": "code",
      "metadata": {
        "id": "9CR3YuF5_dyN",
        "colab_type": "code",
        "colab": {}
      },
      "source": [
        "class subsets_2(subsets):\n",
        "  def pair_sum(self, m):\n",
        "    pairs = [] # сюда будем записывать все возможные подходящие пары\n",
        "    for i in self:\n",
        "      if len(i)==2:\n",
        "        if i[0]+i[1]==m:\n",
        "          pairs.append(i)\n",
        "    print(pairs)\n"
      ],
      "execution_count": 0,
      "outputs": []
    },
    {
      "cell_type": "code",
      "metadata": {
        "id": "w_xEV19RBCTy",
        "colab_type": "code",
        "outputId": "5432d096-e5e1-421c-8e38-62dc7601d8c8",
        "colab": {
          "base_uri": "https://localhost:8080/",
          "height": 35
        }
      },
      "source": [
        "integers = [1,2,3,4,5]\n",
        "m = 6\n",
        "\n",
        "A = subsets_2(integers)\n",
        "A.pair_sum(m)"
      ],
      "execution_count": 0,
      "outputs": [
        {
          "output_type": "stream",
          "text": [
            "[[1, 5], [2, 4]]\n"
          ],
          "name": "stdout"
        }
      ]
    },
    {
      "cell_type": "markdown",
      "metadata": {
        "id": "tPVovXVtYXOD",
        "colab_type": "text"
      },
      "source": [
        "Write a Python class which has two methods get_String and print_String. get_String accept a string from the user and print_String print the string in upper case (inherit it from previous)\n"
      ]
    },
    {
      "cell_type": "code",
      "metadata": {
        "id": "8Io4NzEQBhAg",
        "colab_type": "code",
        "colab": {}
      },
      "source": [
        "class subsets_up(subsets):\n",
        "  def get_String(self):\n",
        "    string0 = input('Enter your string:')\n",
        "    self.string = string0\n",
        "\n",
        "  def print_String(self):\n",
        "    print(self.string.upper())\n"
      ],
      "execution_count": 0,
      "outputs": []
    },
    {
      "cell_type": "code",
      "metadata": {
        "id": "YYQi3Lv8Du9W",
        "colab_type": "code",
        "outputId": "e399fa3a-f633-4691-e13d-fd47f3011846",
        "colab": {
          "base_uri": "https://localhost:8080/",
          "height": 53
        }
      },
      "source": [
        "A = subsets_up([1,2,3,4])\n",
        "A.get_String()\n",
        "A.print_String()\n"
      ],
      "execution_count": 0,
      "outputs": [
        {
          "output_type": "stream",
          "text": [
            "Enter your string:hello!\n",
            "HELLO!\n"
          ],
          "name": "stdout"
        }
      ]
    },
    {
      "cell_type": "markdown",
      "metadata": {
        "id": "1027M8fGMfB4",
        "colab_type": "text"
      },
      "source": [
        "# **functions**\n"
      ]
    },
    {
      "cell_type": "markdown",
      "metadata": {
        "id": "HjTeURvdMnqG",
        "colab_type": "text"
      },
      "source": [
        "write a function to find median in given array"
      ]
    },
    {
      "cell_type": "code",
      "metadata": {
        "id": "AEWSuhXHMhAG",
        "colab_type": "code",
        "colab": {}
      },
      "source": [
        "def med(x):\n",
        "  ans = 0\n",
        "  count = 0\n",
        "  for i in x:\n",
        "    ans += i\n",
        "    count += 1\n",
        "  return ans/count"
      ],
      "execution_count": 0,
      "outputs": []
    },
    {
      "cell_type": "code",
      "metadata": {
        "id": "ZrNxkpoCNaHq",
        "colab_type": "code",
        "outputId": "104fb22b-e5b1-4e5d-f629-734f83e5025e",
        "colab": {
          "base_uri": "https://localhost:8080/",
          "height": 34
        }
      },
      "source": [
        "x = [1,2,3,4]\n",
        "med(x)"
      ],
      "execution_count": 0,
      "outputs": [
        {
          "output_type": "execute_result",
          "data": {
            "text/plain": [
              "2.5"
            ]
          },
          "metadata": {
            "tags": []
          },
          "execution_count": 3
        }
      ]
    },
    {
      "cell_type": "markdown",
      "metadata": {
        "id": "VAdgaCAMNSJM",
        "colab_type": "text"
      },
      "source": [
        "write a function to culculate fibbonachi number (try to use the most efficient way)\n"
      ]
    },
    {
      "cell_type": "code",
      "metadata": {
        "id": "Is-qbiDENTa9",
        "colab_type": "code",
        "colab": {}
      },
      "source": [
        "def fib(n):\n",
        "  if n<=1:\n",
        "    return n\n",
        "  else:\n",
        "     return (fib(n-1)+fib(n-2))"
      ],
      "execution_count": 0,
      "outputs": []
    },
    {
      "cell_type": "code",
      "metadata": {
        "id": "SxJILydnONf3",
        "colab_type": "code",
        "outputId": "928eca21-0ab2-47a4-b36d-00cc2bb07bc2",
        "colab": {
          "base_uri": "https://localhost:8080/",
          "height": 35
        }
      },
      "source": [
        "type(fib(30))"
      ],
      "execution_count": 0,
      "outputs": [
        {
          "output_type": "execute_result",
          "data": {
            "text/plain": [
              "int"
            ]
          },
          "metadata": {
            "tags": []
          },
          "execution_count": 48
        }
      ]
    },
    {
      "cell_type": "markdown",
      "metadata": {
        "id": "ANNYrFqCO1PR",
        "colab_type": "text"
      },
      "source": [
        "Write a Python function to check whether a string is a pangram or not."
      ]
    },
    {
      "cell_type": "code",
      "metadata": {
        "id": "9ShLSFzAOZXn",
        "colab_type": "code",
        "outputId": "48f5c8b9-aa6e-4b26-914d-0e8e5f49527f",
        "colab": {
          "base_uri": "https://localhost:8080/",
          "height": 34
        }
      },
      "source": [
        "import string\n",
        "\n",
        "def check_pangram(s):\n",
        "  s = s.lower()\n",
        "  for i in list(string.ascii_lowercase):\n",
        "    if i not in s:\n",
        "      return 'False'\n",
        "  return 'True'\n",
        "\n",
        "s = 'The quick brown fox jumps over the lazy dog'\n",
        "check_pangram(s)"
      ],
      "execution_count": 0,
      "outputs": [
        {
          "output_type": "execute_result",
          "data": {
            "text/plain": [
              "'True'"
            ]
          },
          "metadata": {
            "tags": []
          },
          "execution_count": 74
        }
      ]
    },
    {
      "cell_type": "markdown",
      "metadata": {
        "id": "riiOTcTXP9Lh",
        "colab_type": "text"
      },
      "source": [
        "Write a function to check wheather given string palindrom or not\n"
      ]
    },
    {
      "cell_type": "code",
      "metadata": {
        "id": "NOfR6sSNP9vw",
        "colab_type": "code",
        "colab": {}
      },
      "source": [
        "def check_palindrom(s):\n",
        "  return s[::-1]==s"
      ],
      "execution_count": 0,
      "outputs": []
    },
    {
      "cell_type": "code",
      "metadata": {
        "id": "BLif2a1aQEll",
        "colab_type": "code",
        "outputId": "5e729dd2-4a3e-41b4-c0ef-6dbb33e9044c",
        "colab": {
          "base_uri": "https://localhost:8080/",
          "height": 34
        }
      },
      "source": [
        "s = 'aba'\n",
        "check_palindrom(s)"
      ],
      "execution_count": 0,
      "outputs": [
        {
          "output_type": "execute_result",
          "data": {
            "text/plain": [
              "True"
            ]
          },
          "metadata": {
            "tags": []
          },
          "execution_count": 28
        }
      ]
    },
    {
      "cell_type": "markdown",
      "metadata": {
        "id": "ZNoPvNEuQbsq",
        "colab_type": "text"
      },
      "source": [
        "Write a Python function that takes a list and returns a new list with unique elements of the first lis (do not use base function set)\n"
      ]
    },
    {
      "cell_type": "code",
      "metadata": {
        "id": "QDYMzjUXQH42",
        "colab_type": "code",
        "colab": {}
      },
      "source": [
        "def elements(x):\n",
        "  elems = []\n",
        "  for i in x:\n",
        "    if i not in elems:\n",
        "      elems.append(i)\n",
        "  return elems"
      ],
      "execution_count": 0,
      "outputs": []
    },
    {
      "cell_type": "code",
      "metadata": {
        "id": "DHuvBN1BQJsw",
        "colab_type": "code",
        "outputId": "e07bf9d5-6917-485e-89c1-1ed1ede9d403",
        "colab": {
          "base_uri": "https://localhost:8080/",
          "height": 34
        }
      },
      "source": [
        "x = [1,1,1,1,1,1,1,2,2,0,3,2,2,3]\n",
        "elements(x)"
      ],
      "execution_count": 0,
      "outputs": [
        {
          "output_type": "execute_result",
          "data": {
            "text/plain": [
              "[1, 2, 0, 3]"
            ]
          },
          "metadata": {
            "tags": []
          },
          "execution_count": 35
        }
      ]
    },
    {
      "cell_type": "markdown",
      "metadata": {
        "id": "opwo4GzqRV85",
        "colab_type": "text"
      },
      "source": [
        "Write a Python program to execute a string containing Python code\n"
      ]
    },
    {
      "cell_type": "markdown",
      "metadata": {
        "id": "OtEnd25KR4sv",
        "colab_type": "text"
      },
      "source": [
        "filter following array from characters using lambda - [1,2,3,5, 'a', 7,8]\n"
      ]
    },
    {
      "cell_type": "code",
      "metadata": {
        "id": "3VZVaaMkRGSe",
        "colab_type": "code",
        "outputId": "01bba220-91b3-417c-e5b8-592370588f85",
        "colab": {
          "base_uri": "https://localhost:8080/",
          "height": 34
        }
      },
      "source": [
        "from functools import reduce\n",
        "\n",
        "s = [1,2,3,5, 'a', 7,8]\n",
        "list(filter(lambda x: type(x) != str,s))"
      ],
      "execution_count": 0,
      "outputs": [
        {
          "output_type": "execute_result",
          "data": {
            "text/plain": [
              "[1, 2, 3, 5, 7, 8]"
            ]
          },
          "metadata": {
            "tags": []
          },
          "execution_count": 43
        }
      ]
    },
    {
      "cell_type": "markdown",
      "metadata": {
        "id": "0UGHZLSxTUVu",
        "colab_type": "text"
      },
      "source": [
        "multiply following array on 3 using lambda [1,2,3,4,5,6]\n"
      ]
    },
    {
      "cell_type": "code",
      "metadata": {
        "id": "7qO_ab71Rw_e",
        "colab_type": "code",
        "outputId": "a389964f-83c5-4d3b-afa3-94b781fc5c07",
        "colab": {
          "base_uri": "https://localhost:8080/",
          "height": 34
        }
      },
      "source": [
        "x = [1,2,3,4,5,6]\n",
        "list(map(lambda y: y*3, x))"
      ],
      "execution_count": 0,
      "outputs": [
        {
          "output_type": "execute_result",
          "data": {
            "text/plain": [
              "[3, 6, 9, 12, 15, 18]"
            ]
          },
          "metadata": {
            "tags": []
          },
          "execution_count": 44
        }
      ]
    },
    {
      "cell_type": "markdown",
      "metadata": {
        "id": "lCZVowTzULTw",
        "colab_type": "text"
      },
      "source": [
        "write generator for fibbonachi numbers\n"
      ]
    },
    {
      "cell_type": "code",
      "metadata": {
        "id": "C3HUGQi3RyhJ",
        "colab_type": "code",
        "outputId": "48fde462-888d-45d3-b993-f834c96b3aa1",
        "colab": {
          "base_uri": "https://localhost:8080/",
          "height": 357
        }
      },
      "source": [
        "n = 20\n",
        "list(map(lambda y: fib(y), range(n)))"
      ],
      "execution_count": 0,
      "outputs": [
        {
          "output_type": "execute_result",
          "data": {
            "text/plain": [
              "[0,\n",
              " 1,\n",
              " 1,\n",
              " 2,\n",
              " 3,\n",
              " 5,\n",
              " 8,\n",
              " 13,\n",
              " 21,\n",
              " 34,\n",
              " 55,\n",
              " 89,\n",
              " 144,\n",
              " 233,\n",
              " 377,\n",
              " 610,\n",
              " 987,\n",
              " 1597,\n",
              " 2584,\n",
              " 4181]"
            ]
          },
          "metadata": {
            "tags": []
          },
          "execution_count": 50
        }
      ]
    },
    {
      "cell_type": "markdown",
      "metadata": {
        "id": "L2m-uAOOU1ic",
        "colab_type": "text"
      },
      "source": [
        "Write a Python program to get the factorial of a non-negative integer (use recursion)\n"
      ]
    },
    {
      "cell_type": "code",
      "metadata": {
        "id": "PXVOFyCfUooI",
        "colab_type": "code",
        "outputId": "43d17263-a28b-489a-e22e-80955cf2a3a9",
        "colab": {
          "base_uri": "https://localhost:8080/",
          "height": 34
        }
      },
      "source": [
        "def factorial(n):\n",
        "  if n==0:\n",
        "    return 1\n",
        "  else:\n",
        "    return n*factorial(n-1)\n",
        "\n",
        "n = 6\n",
        "factorial(n)"
      ],
      "execution_count": 0,
      "outputs": [
        {
          "output_type": "execute_result",
          "data": {
            "text/plain": [
              "720"
            ]
          },
          "metadata": {
            "tags": []
          },
          "execution_count": 52
        }
      ]
    },
    {
      "cell_type": "markdown",
      "metadata": {
        "id": "sFUr1IDIWqd_",
        "colab_type": "text"
      },
      "source": [
        "# **decorators**"
      ]
    },
    {
      "cell_type": "markdown",
      "metadata": {
        "id": "NFP8xAu1W6Tq",
        "colab_type": "text"
      },
      "source": [
        "write decorator which evaluate processed time for function (use time.time() which returns timestamp)\n",
        "\n"
      ]
    },
    {
      "cell_type": "code",
      "metadata": {
        "id": "iG4yXkzzWg_6",
        "colab_type": "code",
        "colab": {}
      },
      "source": [
        "import time\n",
        "\n",
        "def decor(squared): # for power 2 \n",
        "  def wrapper(n):\n",
        "    t1 = time.time()\n",
        "    print(squared(n))\n",
        "    t2 = time.time()\n",
        "    print(t2-t1)\n",
        "  return wrapper\n",
        "\n",
        "@decor\n",
        "def squared(n):\n",
        "  return n**2"
      ],
      "execution_count": 0,
      "outputs": []
    },
    {
      "cell_type": "code",
      "metadata": {
        "id": "3QUZcos4q5yh",
        "colab_type": "code",
        "outputId": "1fd3fca3-c247-4ecd-8ef9-0f9a7e298202",
        "colab": {
          "base_uri": "https://localhost:8080/",
          "height": 53
        }
      },
      "source": [
        "squared(2)"
      ],
      "execution_count": 0,
      "outputs": [
        {
          "output_type": "stream",
          "text": [
            "4\n",
            "0.0011723041534423828\n"
          ],
          "name": "stdout"
        }
      ]
    },
    {
      "cell_type": "markdown",
      "metadata": {
        "id": "t5zP4ettkCz_",
        "colab_type": "text"
      },
      "source": [
        "# **REGEX**"
      ]
    },
    {
      "cell_type": "code",
      "metadata": {
        "id": "WOHPx9Tp1wz4",
        "colab_type": "code",
        "colab": {}
      },
      "source": [
        "import re"
      ],
      "execution_count": 0,
      "outputs": []
    },
    {
      "cell_type": "markdown",
      "metadata": {
        "id": "pXVo5jBjkFx3",
        "colab_type": "text"
      },
      "source": [
        "change in following string 'a1b2c3' numbers on it's cubes"
      ]
    },
    {
      "cell_type": "code",
      "metadata": {
        "id": "O9eL6wr2kHkg",
        "colab_type": "code",
        "outputId": "b68fc594-7121-4392-d47f-fa012f8602fb",
        "colab": {
          "base_uri": "https://localhost:8080/",
          "height": 35
        }
      },
      "source": [
        "#функция возведения в куб для регулярок\n",
        "def cube(x):\n",
        "  x = int(x.group(0))\n",
        "  return str(x**3)\n",
        "\n",
        "re.sub(r'\\d', cube, 'a1b2c3')"
      ],
      "execution_count": 0,
      "outputs": [
        {
          "output_type": "execute_result",
          "data": {
            "text/plain": [
              "'a1b8c27'"
            ]
          },
          "metadata": {
            "tags": []
          },
          "execution_count": 22
        }
      ]
    },
    {
      "cell_type": "markdown",
      "metadata": {
        "id": "JLwJ0TZ3CDOQ",
        "colab_type": "text"
      },
      "source": [
        "Write a Python program that matches a word at the beginning of a string"
      ]
    },
    {
      "cell_type": "code",
      "metadata": {
        "id": "WeGEt08P2fJ5",
        "colab_type": "code",
        "outputId": "ab1956ea-c7e0-4451-9b85-5cde2e10a930",
        "colab": {
          "base_uri": "https://localhost:8080/",
          "height": 35
        }
      },
      "source": [
        "re.match(r'Winter', 'Winter is coming')"
      ],
      "execution_count": 0,
      "outputs": [
        {
          "output_type": "execute_result",
          "data": {
            "text/plain": [
              "<_sre.SRE_Match object; span=(0, 6), match='Winter'>"
            ]
          },
          "metadata": {
            "tags": []
          },
          "execution_count": 23
        }
      ]
    },
    {
      "cell_type": "markdown",
      "metadata": {
        "id": "PV98UIGsCgcp",
        "colab_type": "text"
      },
      "source": [
        "Write a Python program that matches a word at the end of string, with optional punctuation\n",
        "\n",
        "\n"
      ]
    },
    {
      "cell_type": "code",
      "metadata": {
        "id": "lGwmG9-1CaWz",
        "colab_type": "code",
        "outputId": "49fb6e08-f85e-49f5-fc77-0bf0c7921bf8",
        "colab": {
          "base_uri": "https://localhost:8080/",
          "height": 35
        }
      },
      "source": [
        "print(re.search(r'coming.\\Z', 'Winter is coming?'))"
      ],
      "execution_count": 0,
      "outputs": [
        {
          "output_type": "stream",
          "text": [
            "<_sre.SRE_Match object; span=(10, 17), match='coming?'>\n"
          ],
          "name": "stdout"
        }
      ]
    },
    {
      "cell_type": "markdown",
      "metadata": {
        "id": "LAb76wnZF0eS",
        "colab_type": "text"
      },
      "source": [
        "Write a Python program to remove multiple spaces in a string\n"
      ]
    },
    {
      "cell_type": "code",
      "metadata": {
        "id": "cYWEGEbIEmQL",
        "colab_type": "code",
        "outputId": "b03ea62a-995e-4a22-cbfc-fb9d4dded802",
        "colab": {
          "base_uri": "https://localhost:8080/",
          "height": 35
        }
      },
      "source": [
        "re.sub(r' {2,100}', ' ', '      Winter   is    coming?    ')"
      ],
      "execution_count": 0,
      "outputs": [
        {
          "output_type": "execute_result",
          "data": {
            "text/plain": [
              "' Winter is coming? '"
            ]
          },
          "metadata": {
            "tags": []
          },
          "execution_count": 47
        }
      ]
    },
    {
      "cell_type": "markdown",
      "metadata": {
        "id": "ERuyXPf3L8hw",
        "colab_type": "text"
      },
      "source": [
        "Write a Python program to split a string at uppercase letters\n"
      ]
    },
    {
      "cell_type": "code",
      "metadata": {
        "id": "EqsqkrNyLCIv",
        "colab_type": "code",
        "outputId": "aefac19e-1c51-435b-99c0-c33cc37cf813",
        "colab": {
          "base_uri": "https://localhost:8080/",
          "height": 35
        }
      },
      "source": [
        "re.split(r'[A-Z]', 'winterOisAcomingZ?')"
      ],
      "execution_count": 0,
      "outputs": [
        {
          "output_type": "execute_result",
          "data": {
            "text/plain": [
              "['winter', 'is', 'coming', '?']"
            ]
          },
          "metadata": {
            "tags": []
          },
          "execution_count": 52
        }
      ]
    },
    {
      "cell_type": "markdown",
      "metadata": {
        "id": "Pz48FCgJPeDz",
        "colab_type": "text"
      },
      "source": [
        "Write a Python program to remove words from a string of length between 1 and a given number.\n"
      ]
    },
    {
      "cell_type": "code",
      "metadata": {
        "id": "du9SjyRWNerE",
        "colab_type": "code",
        "outputId": "408692d2-7cf4-4009-bd4b-6d0d630ec78e",
        "colab": {
          "base_uri": "https://localhost:8080/",
          "height": 35
        }
      },
      "source": [
        "n = 3\n",
        "\n",
        "reg_exp = r\"\\b[a-z]{{1,{}}}\\b\".format(n)\n",
        "re.sub(reg_exp,'', ' a cat is very cute and funny')"
      ],
      "execution_count": 0,
      "outputs": [
        {
          "output_type": "execute_result",
          "data": {
            "text/plain": [
              "'    very cute  funny'"
            ]
          },
          "metadata": {
            "tags": []
          },
          "execution_count": 107
        }
      ]
    },
    {
      "cell_type": "markdown",
      "metadata": {
        "id": "7_q_ycDfn7mO",
        "colab_type": "text"
      },
      "source": [
        "In a given sequence find strings which contains word \"cat\" at least two times\n"
      ]
    },
    {
      "cell_type": "code",
      "metadata": {
        "id": "D-CDQBQpUifs",
        "colab_type": "code",
        "outputId": "7f70dddd-ca78-4e5b-8497-e1d623b324bd",
        "colab": {
          "base_uri": "https://localhost:8080/",
          "height": 574
        }
      },
      "source": [
        "n = int(input('Введите количество строк:')) ## которое будет вводиться\n",
        "\n",
        "catcat = [] ##  массив нужных нам строк\n",
        "\n",
        "for i in range(n): ## считываем строку и проверяем её\n",
        "  cat_check = input()\n",
        "  if len(re.findall(r'cat', cat_check)) > 1:\n",
        "    catcat.append(cat_check)\n",
        "\n",
        "print('Ответ:')\n",
        "for i in catcat:\n",
        "  print(i) "
      ],
      "execution_count": 0,
      "outputs": [
        {
          "output_type": "error",
          "ename": "KeyboardInterrupt",
          "evalue": "ignored",
          "traceback": [
            "\u001b[0;31m---------------------------------------------------------------------------\u001b[0m",
            "\u001b[0;31mKeyboardInterrupt\u001b[0m                         Traceback (most recent call last)",
            "\u001b[0;32m/usr/local/lib/python3.6/dist-packages/ipykernel/kernelbase.py\u001b[0m in \u001b[0;36m_input_request\u001b[0;34m(self, prompt, ident, parent, password)\u001b[0m\n\u001b[1;32m    729\u001b[0m             \u001b[0;32mtry\u001b[0m\u001b[0;34m:\u001b[0m\u001b[0;34m\u001b[0m\u001b[0;34m\u001b[0m\u001b[0m\n\u001b[0;32m--> 730\u001b[0;31m                 \u001b[0mident\u001b[0m\u001b[0;34m,\u001b[0m \u001b[0mreply\u001b[0m \u001b[0;34m=\u001b[0m \u001b[0mself\u001b[0m\u001b[0;34m.\u001b[0m\u001b[0msession\u001b[0m\u001b[0;34m.\u001b[0m\u001b[0mrecv\u001b[0m\u001b[0;34m(\u001b[0m\u001b[0mself\u001b[0m\u001b[0;34m.\u001b[0m\u001b[0mstdin_socket\u001b[0m\u001b[0;34m,\u001b[0m \u001b[0;36m0\u001b[0m\u001b[0;34m)\u001b[0m\u001b[0;34m\u001b[0m\u001b[0;34m\u001b[0m\u001b[0m\n\u001b[0m\u001b[1;32m    731\u001b[0m             \u001b[0;32mexcept\u001b[0m \u001b[0mException\u001b[0m\u001b[0;34m:\u001b[0m\u001b[0;34m\u001b[0m\u001b[0;34m\u001b[0m\u001b[0m\n",
            "\u001b[0;32m/usr/local/lib/python3.6/dist-packages/jupyter_client/session.py\u001b[0m in \u001b[0;36mrecv\u001b[0;34m(self, socket, mode, content, copy)\u001b[0m\n\u001b[1;32m    802\u001b[0m         \u001b[0;32mtry\u001b[0m\u001b[0;34m:\u001b[0m\u001b[0;34m\u001b[0m\u001b[0;34m\u001b[0m\u001b[0m\n\u001b[0;32m--> 803\u001b[0;31m             \u001b[0mmsg_list\u001b[0m \u001b[0;34m=\u001b[0m \u001b[0msocket\u001b[0m\u001b[0;34m.\u001b[0m\u001b[0mrecv_multipart\u001b[0m\u001b[0;34m(\u001b[0m\u001b[0mmode\u001b[0m\u001b[0;34m,\u001b[0m \u001b[0mcopy\u001b[0m\u001b[0;34m=\u001b[0m\u001b[0mcopy\u001b[0m\u001b[0;34m)\u001b[0m\u001b[0;34m\u001b[0m\u001b[0;34m\u001b[0m\u001b[0m\n\u001b[0m\u001b[1;32m    804\u001b[0m         \u001b[0;32mexcept\u001b[0m \u001b[0mzmq\u001b[0m\u001b[0;34m.\u001b[0m\u001b[0mZMQError\u001b[0m \u001b[0;32mas\u001b[0m \u001b[0me\u001b[0m\u001b[0;34m:\u001b[0m\u001b[0;34m\u001b[0m\u001b[0;34m\u001b[0m\u001b[0m\n",
            "\u001b[0;32m/usr/local/lib/python3.6/dist-packages/zmq/sugar/socket.py\u001b[0m in \u001b[0;36mrecv_multipart\u001b[0;34m(self, flags, copy, track)\u001b[0m\n\u001b[1;32m    465\u001b[0m         \"\"\"\n\u001b[0;32m--> 466\u001b[0;31m         \u001b[0mparts\u001b[0m \u001b[0;34m=\u001b[0m \u001b[0;34m[\u001b[0m\u001b[0mself\u001b[0m\u001b[0;34m.\u001b[0m\u001b[0mrecv\u001b[0m\u001b[0;34m(\u001b[0m\u001b[0mflags\u001b[0m\u001b[0;34m,\u001b[0m \u001b[0mcopy\u001b[0m\u001b[0;34m=\u001b[0m\u001b[0mcopy\u001b[0m\u001b[0;34m,\u001b[0m \u001b[0mtrack\u001b[0m\u001b[0;34m=\u001b[0m\u001b[0mtrack\u001b[0m\u001b[0;34m)\u001b[0m\u001b[0;34m]\u001b[0m\u001b[0;34m\u001b[0m\u001b[0;34m\u001b[0m\u001b[0m\n\u001b[0m\u001b[1;32m    467\u001b[0m         \u001b[0;31m# have first part already, only loop while more to receive\u001b[0m\u001b[0;34m\u001b[0m\u001b[0;34m\u001b[0m\u001b[0;34m\u001b[0m\u001b[0m\n",
            "\u001b[0;32mzmq/backend/cython/socket.pyx\u001b[0m in \u001b[0;36mzmq.backend.cython.socket.Socket.recv\u001b[0;34m()\u001b[0m\n",
            "\u001b[0;32mzmq/backend/cython/socket.pyx\u001b[0m in \u001b[0;36mzmq.backend.cython.socket.Socket.recv\u001b[0;34m()\u001b[0m\n",
            "\u001b[0;32mzmq/backend/cython/socket.pyx\u001b[0m in \u001b[0;36mzmq.backend.cython.socket._recv_copy\u001b[0;34m()\u001b[0m\n",
            "\u001b[0;32m/usr/local/lib/python3.6/dist-packages/zmq/backend/cython/checkrc.pxd\u001b[0m in \u001b[0;36mzmq.backend.cython.checkrc._check_rc\u001b[0;34m()\u001b[0m\n",
            "\u001b[0;31mKeyboardInterrupt\u001b[0m: ",
            "\nDuring handling of the above exception, another exception occurred:\n",
            "\u001b[0;31mKeyboardInterrupt\u001b[0m                         Traceback (most recent call last)",
            "\u001b[0;32m<ipython-input-10-ff128fb246dc>\u001b[0m in \u001b[0;36m<module>\u001b[0;34m()\u001b[0m\n\u001b[0;32m----> 1\u001b[0;31m \u001b[0mn\u001b[0m \u001b[0;34m=\u001b[0m \u001b[0mint\u001b[0m\u001b[0;34m(\u001b[0m\u001b[0minput\u001b[0m\u001b[0;34m(\u001b[0m\u001b[0;34m'Введите количество строк:'\u001b[0m\u001b[0;34m)\u001b[0m\u001b[0;34m)\u001b[0m \u001b[0;31m## которое будет вводиться\u001b[0m\u001b[0;34m\u001b[0m\u001b[0;34m\u001b[0m\u001b[0m\n\u001b[0m\u001b[1;32m      2\u001b[0m \u001b[0;34m\u001b[0m\u001b[0m\n\u001b[1;32m      3\u001b[0m \u001b[0mcatcat\u001b[0m \u001b[0;34m=\u001b[0m \u001b[0;34m[\u001b[0m\u001b[0;34m]\u001b[0m \u001b[0;31m##  массив нужных нам строк\u001b[0m\u001b[0;34m\u001b[0m\u001b[0;34m\u001b[0m\u001b[0m\n\u001b[1;32m      4\u001b[0m \u001b[0;32mfor\u001b[0m \u001b[0mi\u001b[0m \u001b[0;32min\u001b[0m \u001b[0mrange\u001b[0m\u001b[0;34m(\u001b[0m\u001b[0mn\u001b[0m\u001b[0;34m)\u001b[0m\u001b[0;34m:\u001b[0m\u001b[0;34m\u001b[0m\u001b[0;34m\u001b[0m\u001b[0m\n\u001b[1;32m      5\u001b[0m   \u001b[0mcat_check\u001b[0m \u001b[0;34m=\u001b[0m \u001b[0minput\u001b[0m\u001b[0;34m(\u001b[0m\u001b[0;34m)\u001b[0m\u001b[0;34m\u001b[0m\u001b[0;34m\u001b[0m\u001b[0m\n",
            "\u001b[0;32m/usr/local/lib/python3.6/dist-packages/ipykernel/kernelbase.py\u001b[0m in \u001b[0;36mraw_input\u001b[0;34m(self, prompt)\u001b[0m\n\u001b[1;32m    703\u001b[0m             \u001b[0mself\u001b[0m\u001b[0;34m.\u001b[0m\u001b[0m_parent_ident\u001b[0m\u001b[0;34m,\u001b[0m\u001b[0;34m\u001b[0m\u001b[0;34m\u001b[0m\u001b[0m\n\u001b[1;32m    704\u001b[0m             \u001b[0mself\u001b[0m\u001b[0;34m.\u001b[0m\u001b[0m_parent_header\u001b[0m\u001b[0;34m,\u001b[0m\u001b[0;34m\u001b[0m\u001b[0;34m\u001b[0m\u001b[0m\n\u001b[0;32m--> 705\u001b[0;31m             \u001b[0mpassword\u001b[0m\u001b[0;34m=\u001b[0m\u001b[0;32mFalse\u001b[0m\u001b[0;34m,\u001b[0m\u001b[0;34m\u001b[0m\u001b[0;34m\u001b[0m\u001b[0m\n\u001b[0m\u001b[1;32m    706\u001b[0m         )\n\u001b[1;32m    707\u001b[0m \u001b[0;34m\u001b[0m\u001b[0m\n",
            "\u001b[0;32m/usr/local/lib/python3.6/dist-packages/ipykernel/kernelbase.py\u001b[0m in \u001b[0;36m_input_request\u001b[0;34m(self, prompt, ident, parent, password)\u001b[0m\n\u001b[1;32m    733\u001b[0m             \u001b[0;32mexcept\u001b[0m \u001b[0mKeyboardInterrupt\u001b[0m\u001b[0;34m:\u001b[0m\u001b[0;34m\u001b[0m\u001b[0;34m\u001b[0m\u001b[0m\n\u001b[1;32m    734\u001b[0m                 \u001b[0;31m# re-raise KeyboardInterrupt, to truncate traceback\u001b[0m\u001b[0;34m\u001b[0m\u001b[0;34m\u001b[0m\u001b[0;34m\u001b[0m\u001b[0m\n\u001b[0;32m--> 735\u001b[0;31m                 \u001b[0;32mraise\u001b[0m \u001b[0mKeyboardInterrupt\u001b[0m\u001b[0;34m\u001b[0m\u001b[0;34m\u001b[0m\u001b[0m\n\u001b[0m\u001b[1;32m    736\u001b[0m             \u001b[0;32melse\u001b[0m\u001b[0;34m:\u001b[0m\u001b[0;34m\u001b[0m\u001b[0;34m\u001b[0m\u001b[0m\n\u001b[1;32m    737\u001b[0m                 \u001b[0;32mbreak\u001b[0m\u001b[0;34m\u001b[0m\u001b[0;34m\u001b[0m\u001b[0m\n",
            "\u001b[0;31mKeyboardInterrupt\u001b[0m: "
          ]
        }
      ]
    },
    {
      "cell_type": "markdown",
      "metadata": {
        "id": "k67v7cbsn_BM",
        "colab_type": "text"
      },
      "source": [
        "in given sequence find string which contains two 'z' where between three any symbols\n"
      ]
    },
    {
      "cell_type": "code",
      "metadata": {
        "id": "nPMvGONix8_R",
        "colab_type": "code",
        "outputId": "dabb3757-70d5-47cb-bb03-aa2a13b22031",
        "colab": {
          "base_uri": "https://localhost:8080/",
          "height": 89
        }
      },
      "source": [
        "n = int(input('Введите количество строк:')) ## которое будет вводиться\n",
        "\n",
        "z3z = [] ##  массив нужных нам строк\n",
        "for i in range(n):\n",
        "  z_check = input()\n",
        "  if re.search(r'z...z', z_check) != None:\n",
        "    z3z.append(z_check)\n",
        "\n",
        "print('Ответ:')\n",
        "if z3z == []:\n",
        "  print('---')\n",
        "else:\n",
        "  for i in z3z:\n",
        "    print(i) "
      ],
      "execution_count": 0,
      "outputs": [
        {
          "output_type": "stream",
          "text": [
            "Введите количество строк:1\n",
            "zz\n",
            "Ответ:\n",
            "---\n"
          ],
          "name": "stdout"
        }
      ]
    },
    {
      "cell_type": "markdown",
      "metadata": {
        "id": "U0pfBb6HoCa-",
        "colab_type": "text"
      },
      "source": [
        "in a given sequence find strings which contain words consisting of two equal parts\n"
      ]
    },
    {
      "cell_type": "code",
      "metadata": {
        "id": "VV_cA8Nn0RUX",
        "colab_type": "code",
        "outputId": "ee57148d-f8c4-46f6-cb3e-dc12ed26c907",
        "colab": {
          "base_uri": "https://localhost:8080/",
          "height": 89
        }
      },
      "source": [
        "n = int(input('Введите количество строк:')) ## которое будет вводиться\n",
        "\n",
        "reprep = [] ##  массив нужных нам строк\n",
        "\n",
        "for i in range(n):\n",
        "  rep_check = input()\n",
        "  if re.search(r'\\b(\\w*)\\1\\b', rep_check).group(0) != '':\n",
        "    reprep.append(rep_check)\n",
        "\n",
        "print('---------Ответ--------')\n",
        "if reprep == []:\n",
        "  print('---')\n",
        "else:\n",
        "  for i in reprep:\n",
        "    print(i) "
      ],
      "execution_count": 0,
      "outputs": [
        {
          "output_type": "stream",
          "text": [
            "Введите количество строк:1\n",
            "a\n",
            "---------Ответ--------\n",
            "---\n"
          ],
          "name": "stdout"
        }
      ]
    },
    {
      "cell_type": "markdown",
      "metadata": {
        "id": "xD0duulnoEvp",
        "colab_type": "text"
      },
      "source": [
        "in a given sequence change repiting letters by one letter\n"
      ]
    },
    {
      "cell_type": "code",
      "metadata": {
        "id": "Fvl07z7REGAc",
        "colab_type": "code",
        "outputId": "47c02b27-298e-453e-b98a-6018eec6c573",
        "colab": {
          "base_uri": "https://localhost:8080/",
          "height": 161
        }
      },
      "source": [
        "n = int(input('Введите количество строк:')) ## которое будет вводиться\n",
        "\n",
        "reprep = [] ##  массив нужных нам строк\n",
        "\n",
        "for i in range(n):\n",
        "  rep_check = input()\n",
        "  reprep.append(re.sub(r'(\\w)(\\1)*', r'\\1', rep_check))\n",
        "\n",
        "print('---------Ответ--------')\n",
        "for i in reprep:\n",
        "  print(i) "
      ],
      "execution_count": 0,
      "outputs": [
        {
          "output_type": "stream",
          "text": [
            "Введите количество строк:3\n",
            "attractoon\n",
            "buxxxxxx\n",
            "as\n",
            "---------Ответ--------\n",
            "atracton\n",
            "bux\n",
            "as\n"
          ],
          "name": "stdout"
        }
      ]
    },
    {
      "cell_type": "markdown",
      "metadata": {
        "id": "q0fRoyhpZcXJ",
        "colab_type": "text"
      },
      "source": [
        "# **Scrapping**"
      ]
    },
    {
      "cell_type": "markdown",
      "metadata": {
        "id": "5NQ0Qd8eZbZ3",
        "colab_type": "text"
      },
      "source": [
        "write a programm which shows current ip (use http://myip.ru/)\n",
        "[link text](https://)"
      ]
    },
    {
      "cell_type": "code",
      "metadata": {
        "id": "RRrzxg_sZyyl",
        "colab_type": "code",
        "colab": {}
      },
      "source": [
        "import requests\n",
        "from bs4 import BeautifulSoup\n",
        "\n",
        "page = requests.get(\"http://myip.ru/index_small.php\").text\n",
        "soup = BeautifulSoup(page, 'html.parser')"
      ],
      "execution_count": 0,
      "outputs": []
    },
    {
      "cell_type": "code",
      "metadata": {
        "id": "hWExw8_idEZF",
        "colab_type": "code",
        "outputId": "c0d291e0-3111-490a-90f1-96472b1d65a8",
        "colab": {
          "base_uri": "https://localhost:8080/",
          "height": 35
        }
      },
      "source": [
        "td = [i.getText() for i in soup.find_all('td')]\n",
        "ip = td[0]\n",
        "print('Your IP: ', ip)"
      ],
      "execution_count": 3,
      "outputs": [
        {
          "output_type": "stream",
          "text": [
            "Your IP:  35.227.43.30\n"
          ],
          "name": "stdout"
        }
      ]
    },
    {
      "cell_type": "markdown",
      "metadata": {
        "id": "xyqTKVbaGXu5",
        "colab_type": "text"
      },
      "source": [
        "write a programm which scrappes (at least 100 pages )\n",
        "\n",
        "\n",
        "> **+** title of appeal\n",
        "date\n",
        "\n",
        "> **+** category\n",
        "\n",
        "> **-** text of appeal\n",
        "\n",
        "> **+** city or region \n",
        "\n",
        "http://zpp.rospotrebnadzor.ru/Forum/Appeals"
      ]
    },
    {
      "cell_type": "code",
      "metadata": {
        "id": "Bmyc-C04GazZ",
        "colab_type": "code",
        "colab": {}
      },
      "source": [
        "# Сделано только для одной страницы и без текста обращения\n",
        "page = requests.get(\"http://zpp.rospotrebnadzor.ru/Forum/Appeals\").text\n",
        "soup = BeautifulSoup(page, 'html.parser')"
      ],
      "execution_count": 0,
      "outputs": []
    },
    {
      "cell_type": "code",
      "metadata": {
        "id": "qAXaJdpWTkTX",
        "colab_type": "code",
        "colab": {}
      },
      "source": [
        "soup"
      ],
      "execution_count": 0,
      "outputs": []
    },
    {
      "cell_type": "code",
      "metadata": {
        "id": "JmDPOWj2NlpF",
        "colab_type": "code",
        "colab": {}
      },
      "source": [
        "title = [i.getText() for i in soup.find_all('a', {\"class\":\"appeal-title-link\"})] # взяли название из soup\n",
        "title = [re.sub(r'\\r|\\n|\\B ', '', i) for i in title] # убрали лишние символы\n",
        "title"
      ],
      "execution_count": 0,
      "outputs": []
    },
    {
      "cell_type": "code",
      "metadata": {
        "id": "QZ0Wb95lXaiw",
        "colab_type": "code",
        "colab": {
          "base_uri": "https://localhost:8080/",
          "height": 107
        },
        "outputId": "2281a976-ab52-47b7-d1d8-82c1b6cd9892"
      },
      "source": [
        "city = [i.getText() for i in soup.find_all('p')] # взяли  все <p> из soup\n",
        "city = [re.sub(r' Регион:  ', '', i) for i in city if 'Регион' in i] # выбрали только регионы\n",
        "city"
      ],
      "execution_count": 115,
      "outputs": [
        {
          "output_type": "execute_result",
          "data": {
            "text/plain": [
              "['Нижегородская область',\n",
              " 'Новосибирская область',\n",
              " 'Красноярский край',\n",
              " 'Нижегородская область',\n",
              " 'Московская область']"
            ]
          },
          "metadata": {
            "tags": []
          },
          "execution_count": 115
        }
      ]
    },
    {
      "cell_type": "code",
      "metadata": {
        "id": "0t2nzt28bYi1",
        "colab_type": "code",
        "colab": {}
      },
      "source": [
        "category = [i.getText() for i in soup.find_all('p', {\"class\":\"appeal-cat-title\"})] # взяли категорию из soup\n",
        "category"
      ],
      "execution_count": 0,
      "outputs": []
    },
    {
      "cell_type": "code",
      "metadata": {
        "id": "pGFsyOJlUwO3",
        "colab_type": "code",
        "colab": {}
      },
      "source": [
        "import pandas as pd"
      ],
      "execution_count": 0,
      "outputs": []
    },
    {
      "cell_type": "code",
      "metadata": {
        "id": "G65ue-VxUyxu",
        "colab_type": "code",
        "colab": {}
      },
      "source": [
        "rpn =  pd.DataFrame([category, title, city])\n",
        "rpn = rpn.transpose()\n",
        "rpn.columns = ['category', 'title','city']"
      ],
      "execution_count": 0,
      "outputs": []
    },
    {
      "cell_type": "code",
      "metadata": {
        "id": "DaekGvBdVHIw",
        "colab_type": "code",
        "colab": {
          "base_uri": "https://localhost:8080/",
          "height": 204
        },
        "outputId": "4a25d340-268c-4273-a500-c5b580a6ee76"
      },
      "source": [
        "rpn"
      ],
      "execution_count": 117,
      "outputs": [
        {
          "output_type": "execute_result",
          "data": {
            "text/html": [
              "<div>\n",
              "<style scoped>\n",
              "    .dataframe tbody tr th:only-of-type {\n",
              "        vertical-align: middle;\n",
              "    }\n",
              "\n",
              "    .dataframe tbody tr th {\n",
              "        vertical-align: top;\n",
              "    }\n",
              "\n",
              "    .dataframe thead th {\n",
              "        text-align: right;\n",
              "    }\n",
              "</style>\n",
              "<table border=\"1\" class=\"dataframe\">\n",
              "  <thead>\n",
              "    <tr style=\"text-align: right;\">\n",
              "      <th></th>\n",
              "      <th>category</th>\n",
              "      <th>title</th>\n",
              "      <th>city</th>\n",
              "    </tr>\n",
              "  </thead>\n",
              "  <tbody>\n",
              "    <tr>\n",
              "      <th>0</th>\n",
              "      <td>Транспортные услуги</td>\n",
              "      <td>Оплата проезда на пригородном транспорте.</td>\n",
              "      <td>Нижегородская область</td>\n",
              "    </tr>\n",
              "    <tr>\n",
              "      <th>1</th>\n",
              "      <td>Прочие виды деятельности</td>\n",
              "      <td>Прохождение периодических медицинских осмотров</td>\n",
              "      <td>Новосибирская область</td>\n",
              "    </tr>\n",
              "    <tr>\n",
              "      <th>2</th>\n",
              "      <td>Прочие виды деятельности</td>\n",
              "      <td>Ужасные запахи от соседей</td>\n",
              "      <td>Красноярский край</td>\n",
              "    </tr>\n",
              "    <tr>\n",
              "      <th>3</th>\n",
              "      <td>Жилищно-коммунальные услуги</td>\n",
              "      <td>Выполнение капитального ремонта фасада многокв...</td>\n",
              "      <td>Нижегородская область</td>\n",
              "    </tr>\n",
              "    <tr>\n",
              "      <th>4</th>\n",
              "      <td>Жилищно-коммунальные услуги</td>\n",
              "      <td>Неисполнение обязательств со стороны застройщи...</td>\n",
              "      <td>Московская область</td>\n",
              "    </tr>\n",
              "  </tbody>\n",
              "</table>\n",
              "</div>"
            ],
            "text/plain": [
              "                      category  ...                   city\n",
              "0          Транспортные услуги  ...  Нижегородская область\n",
              "1     Прочие виды деятельности  ...  Новосибирская область\n",
              "2     Прочие виды деятельности  ...      Красноярский край\n",
              "3  Жилищно-коммунальные услуги  ...  Нижегородская область\n",
              "4  Жилищно-коммунальные услуги  ...     Московская область\n",
              "\n",
              "[5 rows x 3 columns]"
            ]
          },
          "metadata": {
            "tags": []
          },
          "execution_count": 117
        }
      ]
    }
  ]
}